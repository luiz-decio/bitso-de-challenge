{
 "cells": [
  {
   "cell_type": "code",
   "execution_count": 2,
   "metadata": {},
   "outputs": [],
   "source": [
    "import pandas as pd\n",
    "import os"
   ]
  },
  {
   "cell_type": "markdown",
   "metadata": {},
   "source": [
    "### Deposit data"
   ]
  },
  {
   "cell_type": "code",
   "execution_count": 5,
   "metadata": {},
   "outputs": [
    {
     "data": {
      "text/html": [
       "<div>\n",
       "<style scoped>\n",
       "    .dataframe tbody tr th:only-of-type {\n",
       "        vertical-align: middle;\n",
       "    }\n",
       "\n",
       "    .dataframe tbody tr th {\n",
       "        vertical-align: top;\n",
       "    }\n",
       "\n",
       "    .dataframe thead th {\n",
       "        text-align: right;\n",
       "    }\n",
       "</style>\n",
       "<table border=\"1\" class=\"dataframe\">\n",
       "  <thead>\n",
       "    <tr style=\"text-align: right;\">\n",
       "      <th></th>\n",
       "      <th>id</th>\n",
       "      <th>event_timestamp</th>\n",
       "      <th>user_id</th>\n",
       "      <th>amount</th>\n",
       "      <th>currency</th>\n",
       "      <th>tx_status</th>\n",
       "    </tr>\n",
       "  </thead>\n",
       "  <tbody>\n",
       "    <tr>\n",
       "      <th>0</th>\n",
       "      <td>3521</td>\n",
       "      <td>2020-01-02 19:55:43.341+00</td>\n",
       "      <td>2dea61eed4bceec564a00115c4d21334</td>\n",
       "      <td>1000.0</td>\n",
       "      <td>bat</td>\n",
       "      <td>complete</td>\n",
       "    </tr>\n",
       "    <tr>\n",
       "      <th>1</th>\n",
       "      <td>3522</td>\n",
       "      <td>2020-01-02 19:55:43.477+00</td>\n",
       "      <td>2dea61eed4bceec564a00115c4d21334</td>\n",
       "      <td>1000.0</td>\n",
       "      <td>gnt</td>\n",
       "      <td>complete</td>\n",
       "    </tr>\n",
       "    <tr>\n",
       "      <th>2</th>\n",
       "      <td>3523</td>\n",
       "      <td>2020-01-02 19:55:43.516+00</td>\n",
       "      <td>2dea61eed4bceec564a00115c4d21334</td>\n",
       "      <td>1000.0</td>\n",
       "      <td>mana</td>\n",
       "      <td>complete</td>\n",
       "    </tr>\n",
       "    <tr>\n",
       "      <th>3</th>\n",
       "      <td>3524</td>\n",
       "      <td>2020-01-02 19:55:43.555+00</td>\n",
       "      <td>2dea61eed4bceec564a00115c4d21334</td>\n",
       "      <td>1000.0</td>\n",
       "      <td>ars</td>\n",
       "      <td>complete</td>\n",
       "    </tr>\n",
       "    <tr>\n",
       "      <th>4</th>\n",
       "      <td>3527</td>\n",
       "      <td>2020-01-06 17:07:49.794+00</td>\n",
       "      <td>7f1171a78ce0780a2142a6eb7bc4f3c8</td>\n",
       "      <td>100.0</td>\n",
       "      <td>ars</td>\n",
       "      <td>complete</td>\n",
       "    </tr>\n",
       "  </tbody>\n",
       "</table>\n",
       "</div>"
      ],
      "text/plain": [
       "     id             event_timestamp                           user_id  amount  \\\n",
       "0  3521  2020-01-02 19:55:43.341+00  2dea61eed4bceec564a00115c4d21334  1000.0   \n",
       "1  3522  2020-01-02 19:55:43.477+00  2dea61eed4bceec564a00115c4d21334  1000.0   \n",
       "2  3523  2020-01-02 19:55:43.516+00  2dea61eed4bceec564a00115c4d21334  1000.0   \n",
       "3  3524  2020-01-02 19:55:43.555+00  2dea61eed4bceec564a00115c4d21334  1000.0   \n",
       "4  3527  2020-01-06 17:07:49.794+00  7f1171a78ce0780a2142a6eb7bc4f3c8   100.0   \n",
       "\n",
       "  currency tx_status  \n",
       "0      bat  complete  \n",
       "1      gnt  complete  \n",
       "2     mana  complete  \n",
       "3      ars  complete  \n",
       "4      ars  complete  "
      ]
     },
     "execution_count": 5,
     "metadata": {},
     "output_type": "execute_result"
    }
   ],
   "source": [
    "df_deposit = pd.read_csv(r'../data/landing/deposit_sample_data.csv')\n",
    "df_deposit.head()"
   ]
  },
  {
   "cell_type": "code",
   "execution_count": 6,
   "metadata": {},
   "outputs": [
    {
     "name": "stdout",
     "output_type": "stream",
     "text": [
      "<class 'pandas.core.frame.DataFrame'>\n",
      "RangeIndex: 1618271 entries, 0 to 1618270\n",
      "Data columns (total 6 columns):\n",
      " #   Column           Non-Null Count    Dtype  \n",
      "---  ------           --------------    -----  \n",
      " 0   id               1618271 non-null  int64  \n",
      " 1   event_timestamp  1618271 non-null  object \n",
      " 2   user_id          1618271 non-null  object \n",
      " 3   amount           1618259 non-null  float64\n",
      " 4   currency         1618271 non-null  object \n",
      " 5   tx_status        1618271 non-null  object \n",
      "dtypes: float64(1), int64(1), object(4)\n",
      "memory usage: 74.1+ MB\n"
     ]
    }
   ],
   "source": [
    "df_deposit.info()"
   ]
  },
  {
   "cell_type": "code",
   "execution_count": 10,
   "metadata": {},
   "outputs": [
    {
     "data": {
      "text/plain": [
       "np.int64(12)"
      ]
     },
     "execution_count": 10,
     "metadata": {},
     "output_type": "execute_result"
    }
   ],
   "source": [
    "df_deposit['amount'].isnull().sum()"
   ]
  },
  {
   "cell_type": "markdown",
   "metadata": {},
   "source": [
    "### Event data"
   ]
  },
  {
   "cell_type": "code",
   "execution_count": 11,
   "metadata": {},
   "outputs": [
    {
     "data": {
      "text/html": [
       "<div>\n",
       "<style scoped>\n",
       "    .dataframe tbody tr th:only-of-type {\n",
       "        vertical-align: middle;\n",
       "    }\n",
       "\n",
       "    .dataframe tbody tr th {\n",
       "        vertical-align: top;\n",
       "    }\n",
       "\n",
       "    .dataframe thead th {\n",
       "        text-align: right;\n",
       "    }\n",
       "</style>\n",
       "<table border=\"1\" class=\"dataframe\">\n",
       "  <thead>\n",
       "    <tr style=\"text-align: right;\">\n",
       "      <th></th>\n",
       "      <th>id</th>\n",
       "      <th>event_timestamp</th>\n",
       "      <th>user_id</th>\n",
       "      <th>event_name</th>\n",
       "    </tr>\n",
       "  </thead>\n",
       "  <tbody>\n",
       "    <tr>\n",
       "      <th>0</th>\n",
       "      <td>2058298</td>\n",
       "      <td>2020-01-02 18:40:33.568000</td>\n",
       "      <td>f442d33fa06832082290ad8544a8da27</td>\n",
       "      <td>login</td>\n",
       "    </tr>\n",
       "    <tr>\n",
       "      <th>1</th>\n",
       "      <td>2058299</td>\n",
       "      <td>2020-01-02 18:46:28.086000</td>\n",
       "      <td>f442d33fa06832082290ad8544a8da27</td>\n",
       "      <td>login</td>\n",
       "    </tr>\n",
       "    <tr>\n",
       "      <th>2</th>\n",
       "      <td>2058314</td>\n",
       "      <td>2020-01-02 23:30:54.959000</td>\n",
       "      <td>f442d33fa06832082290ad8544a8da27</td>\n",
       "      <td>login</td>\n",
       "    </tr>\n",
       "    <tr>\n",
       "      <th>3</th>\n",
       "      <td>2058326</td>\n",
       "      <td>2020-01-06 01:49:14.948000</td>\n",
       "      <td>ae0eb3eed39d2bcef4622b2499a05fe6</td>\n",
       "      <td>2falogin</td>\n",
       "    </tr>\n",
       "    <tr>\n",
       "      <th>4</th>\n",
       "      <td>2058378</td>\n",
       "      <td>2020-01-06 23:50:34.938000</td>\n",
       "      <td>06a15eb1c3836723b53e4abca8d9b879</td>\n",
       "      <td>login_api</td>\n",
       "    </tr>\n",
       "  </tbody>\n",
       "</table>\n",
       "</div>"
      ],
      "text/plain": [
       "        id             event_timestamp                           user_id  \\\n",
       "0  2058298  2020-01-02 18:40:33.568000  f442d33fa06832082290ad8544a8da27   \n",
       "1  2058299  2020-01-02 18:46:28.086000  f442d33fa06832082290ad8544a8da27   \n",
       "2  2058314  2020-01-02 23:30:54.959000  f442d33fa06832082290ad8544a8da27   \n",
       "3  2058326  2020-01-06 01:49:14.948000  ae0eb3eed39d2bcef4622b2499a05fe6   \n",
       "4  2058378  2020-01-06 23:50:34.938000  06a15eb1c3836723b53e4abca8d9b879   \n",
       "\n",
       "  event_name  \n",
       "0      login  \n",
       "1      login  \n",
       "2      login  \n",
       "3   2falogin  \n",
       "4  login_api  "
      ]
     },
     "execution_count": 11,
     "metadata": {},
     "output_type": "execute_result"
    }
   ],
   "source": [
    "df_event = pd.read_csv(r'../data/landing/event_sample_data.csv')\n",
    "df_event.head()"
   ]
  },
  {
   "cell_type": "code",
   "execution_count": 12,
   "metadata": {},
   "outputs": [
    {
     "name": "stdout",
     "output_type": "stream",
     "text": [
      "<class 'pandas.core.frame.DataFrame'>\n",
      "RangeIndex: 105744 entries, 0 to 105743\n",
      "Data columns (total 4 columns):\n",
      " #   Column           Non-Null Count   Dtype \n",
      "---  ------           --------------   ----- \n",
      " 0   id               105744 non-null  int64 \n",
      " 1   event_timestamp  105744 non-null  object\n",
      " 2   user_id          105744 non-null  object\n",
      " 3   event_name       105744 non-null  object\n",
      "dtypes: int64(1), object(3)\n",
      "memory usage: 3.2+ MB\n"
     ]
    }
   ],
   "source": [
    "df_event.info()"
   ]
  },
  {
   "cell_type": "markdown",
   "metadata": {},
   "source": [
    "### User data"
   ]
  },
  {
   "cell_type": "code",
   "execution_count": 13,
   "metadata": {},
   "outputs": [
    {
     "data": {
      "text/html": [
       "<div>\n",
       "<style scoped>\n",
       "    .dataframe tbody tr th:only-of-type {\n",
       "        vertical-align: middle;\n",
       "    }\n",
       "\n",
       "    .dataframe tbody tr th {\n",
       "        vertical-align: top;\n",
       "    }\n",
       "\n",
       "    .dataframe thead th {\n",
       "        text-align: right;\n",
       "    }\n",
       "</style>\n",
       "<table border=\"1\" class=\"dataframe\">\n",
       "  <thead>\n",
       "    <tr style=\"text-align: right;\">\n",
       "      <th></th>\n",
       "      <th>user_id</th>\n",
       "    </tr>\n",
       "  </thead>\n",
       "  <tbody>\n",
       "    <tr>\n",
       "      <th>0</th>\n",
       "      <td>5dd9db5e033da9c6fb5ba83c7a7ebea9</td>\n",
       "    </tr>\n",
       "    <tr>\n",
       "      <th>1</th>\n",
       "      <td>ae0eb3eed39d2bcef4622b2499a05fe6</td>\n",
       "    </tr>\n",
       "    <tr>\n",
       "      <th>2</th>\n",
       "      <td>e70611883d2760c8bbafb4acb29e3446</td>\n",
       "    </tr>\n",
       "    <tr>\n",
       "      <th>3</th>\n",
       "      <td>6d70cb65d15211726dcce4c0e971e21c</td>\n",
       "    </tr>\n",
       "    <tr>\n",
       "      <th>4</th>\n",
       "      <td>8ce6790cc6a94e65f17f908f462fae85</td>\n",
       "    </tr>\n",
       "  </tbody>\n",
       "</table>\n",
       "</div>"
      ],
      "text/plain": [
       "                            user_id\n",
       "0  5dd9db5e033da9c6fb5ba83c7a7ebea9\n",
       "1  ae0eb3eed39d2bcef4622b2499a05fe6\n",
       "2  e70611883d2760c8bbafb4acb29e3446\n",
       "3  6d70cb65d15211726dcce4c0e971e21c\n",
       "4  8ce6790cc6a94e65f17f908f462fae85"
      ]
     },
     "execution_count": 13,
     "metadata": {},
     "output_type": "execute_result"
    }
   ],
   "source": [
    "df_user = pd.read_csv(r'../data/landing/user_id_sample_data.csv')\n",
    "df_user.head()"
   ]
  },
  {
   "cell_type": "code",
   "execution_count": 14,
   "metadata": {},
   "outputs": [
    {
     "name": "stdout",
     "output_type": "stream",
     "text": [
      "<class 'pandas.core.frame.DataFrame'>\n",
      "RangeIndex: 25699 entries, 0 to 25698\n",
      "Data columns (total 1 columns):\n",
      " #   Column   Non-Null Count  Dtype \n",
      "---  ------   --------------  ----- \n",
      " 0   user_id  25699 non-null  object\n",
      "dtypes: object(1)\n",
      "memory usage: 200.9+ KB\n"
     ]
    }
   ],
   "source": [
    "df_user.info()"
   ]
  },
  {
   "cell_type": "markdown",
   "metadata": {},
   "source": [
    "### Withdrawal data"
   ]
  },
  {
   "cell_type": "code",
   "execution_count": 16,
   "metadata": {},
   "outputs": [
    {
     "data": {
      "text/html": [
       "<div>\n",
       "<style scoped>\n",
       "    .dataframe tbody tr th:only-of-type {\n",
       "        vertical-align: middle;\n",
       "    }\n",
       "\n",
       "    .dataframe tbody tr th {\n",
       "        vertical-align: top;\n",
       "    }\n",
       "\n",
       "    .dataframe thead th {\n",
       "        text-align: right;\n",
       "    }\n",
       "</style>\n",
       "<table border=\"1\" class=\"dataframe\">\n",
       "  <thead>\n",
       "    <tr style=\"text-align: right;\">\n",
       "      <th></th>\n",
       "      <th>id</th>\n",
       "      <th>event_timestamp</th>\n",
       "      <th>user_id</th>\n",
       "      <th>amount</th>\n",
       "      <th>interface</th>\n",
       "      <th>currency</th>\n",
       "      <th>tx_status</th>\n",
       "    </tr>\n",
       "  </thead>\n",
       "  <tbody>\n",
       "    <tr>\n",
       "      <th>0</th>\n",
       "      <td>1521</td>\n",
       "      <td>2020-01-10 14:11:05.63+00</td>\n",
       "      <td>c8fbbc86abe8bd6a5eb6a3b4d0411301</td>\n",
       "      <td>10.0</td>\n",
       "      <td>app</td>\n",
       "      <td>mxn</td>\n",
       "      <td>complete</td>\n",
       "    </tr>\n",
       "    <tr>\n",
       "      <th>1</th>\n",
       "      <td>1522</td>\n",
       "      <td>2020-01-10 18:26:02.853+00</td>\n",
       "      <td>c8fbbc86abe8bd6a5eb6a3b4d0411301</td>\n",
       "      <td>5.0</td>\n",
       "      <td>app</td>\n",
       "      <td>mxn</td>\n",
       "      <td>complete</td>\n",
       "    </tr>\n",
       "    <tr>\n",
       "      <th>2</th>\n",
       "      <td>1523</td>\n",
       "      <td>2020-01-10 18:26:45.66+00</td>\n",
       "      <td>c8fbbc86abe8bd6a5eb6a3b4d0411301</td>\n",
       "      <td>10.0</td>\n",
       "      <td>app</td>\n",
       "      <td>mxn</td>\n",
       "      <td>failed</td>\n",
       "    </tr>\n",
       "    <tr>\n",
       "      <th>3</th>\n",
       "      <td>1572</td>\n",
       "      <td>2020-01-17 19:51:50.49+00</td>\n",
       "      <td>2b45c629e577731c4df84fc34f936a89</td>\n",
       "      <td>5.0</td>\n",
       "      <td>web</td>\n",
       "      <td>mxn</td>\n",
       "      <td>complete</td>\n",
       "    </tr>\n",
       "    <tr>\n",
       "      <th>4</th>\n",
       "      <td>1588</td>\n",
       "      <td>2020-01-18 00:07:18.364+00</td>\n",
       "      <td>2b45c629e577731c4df84fc34f936a89</td>\n",
       "      <td>5.0</td>\n",
       "      <td>web</td>\n",
       "      <td>mxn</td>\n",
       "      <td>complete</td>\n",
       "    </tr>\n",
       "  </tbody>\n",
       "</table>\n",
       "</div>"
      ],
      "text/plain": [
       "     id             event_timestamp                           user_id  amount  \\\n",
       "0  1521   2020-01-10 14:11:05.63+00  c8fbbc86abe8bd6a5eb6a3b4d0411301    10.0   \n",
       "1  1522  2020-01-10 18:26:02.853+00  c8fbbc86abe8bd6a5eb6a3b4d0411301     5.0   \n",
       "2  1523   2020-01-10 18:26:45.66+00  c8fbbc86abe8bd6a5eb6a3b4d0411301    10.0   \n",
       "3  1572   2020-01-17 19:51:50.49+00  2b45c629e577731c4df84fc34f936a89     5.0   \n",
       "4  1588  2020-01-18 00:07:18.364+00  2b45c629e577731c4df84fc34f936a89     5.0   \n",
       "\n",
       "  interface currency tx_status  \n",
       "0       app      mxn  complete  \n",
       "1       app      mxn  complete  \n",
       "2       app      mxn    failed  \n",
       "3       web      mxn  complete  \n",
       "4       web      mxn  complete  "
      ]
     },
     "execution_count": 16,
     "metadata": {},
     "output_type": "execute_result"
    }
   ],
   "source": [
    "df_withdrawal = pd.read_csv(r'../data/landing/withdrawals_sample_data.csv')\n",
    "df_withdrawal.head()"
   ]
  },
  {
   "cell_type": "code",
   "execution_count": 17,
   "metadata": {},
   "outputs": [
    {
     "name": "stdout",
     "output_type": "stream",
     "text": [
      "<class 'pandas.core.frame.DataFrame'>\n",
      "RangeIndex: 5098 entries, 0 to 5097\n",
      "Data columns (total 7 columns):\n",
      " #   Column           Non-Null Count  Dtype  \n",
      "---  ------           --------------  -----  \n",
      " 0   id               5098 non-null   int64  \n",
      " 1   event_timestamp  5098 non-null   object \n",
      " 2   user_id          5098 non-null   object \n",
      " 3   amount           5098 non-null   float64\n",
      " 4   interface        5098 non-null   object \n",
      " 5   currency         5098 non-null   object \n",
      " 6   tx_status        5098 non-null   object \n",
      "dtypes: float64(1), int64(1), object(5)\n",
      "memory usage: 278.9+ KB\n"
     ]
    }
   ],
   "source": [
    "df_withdrawal.info()"
   ]
  }
 ],
 "metadata": {
  "kernelspec": {
   "display_name": ".venv",
   "language": "python",
   "name": "python3"
  },
  "language_info": {
   "codemirror_mode": {
    "name": "ipython",
    "version": 3
   },
   "file_extension": ".py",
   "mimetype": "text/x-python",
   "name": "python",
   "nbconvert_exporter": "python",
   "pygments_lexer": "ipython3",
   "version": "3.11.2"
  }
 },
 "nbformat": 4,
 "nbformat_minor": 2
}
