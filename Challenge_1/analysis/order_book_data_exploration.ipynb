{
 "cells": [
  {
   "cell_type": "code",
   "execution_count": 2,
   "metadata": {},
   "outputs": [],
   "source": [
    "import pyarrow\n",
    "import pandas as pd"
   ]
  },
  {
   "cell_type": "code",
   "execution_count": 3,
   "metadata": {},
   "outputs": [
    {
     "data": {
      "text/html": [
       "<div>\n",
       "<style scoped>\n",
       "    .dataframe tbody tr th:only-of-type {\n",
       "        vertical-align: middle;\n",
       "    }\n",
       "\n",
       "    .dataframe tbody tr th {\n",
       "        vertical-align: top;\n",
       "    }\n",
       "\n",
       "    .dataframe thead th {\n",
       "        text-align: right;\n",
       "    }\n",
       "</style>\n",
       "<table border=\"1\" class=\"dataframe\">\n",
       "  <thead>\n",
       "    <tr style=\"text-align: right;\">\n",
       "      <th></th>\n",
       "      <th>orderbook_timestamp</th>\n",
       "      <th>book</th>\n",
       "      <th>bid</th>\n",
       "      <th>ask</th>\n",
       "      <th>spread</th>\n",
       "    </tr>\n",
       "  </thead>\n",
       "  <tbody>\n",
       "    <tr>\n",
       "      <th>0</th>\n",
       "      <td>2024-07-30T21:50:02+00:00</td>\n",
       "      <td>btc_mxn</td>\n",
       "      <td>1239720.0</td>\n",
       "      <td>1239720.02</td>\n",
       "      <td>0.000002</td>\n",
       "    </tr>\n",
       "    <tr>\n",
       "      <th>1</th>\n",
       "      <td>2024-07-30T21:50:03+00:00</td>\n",
       "      <td>btc_mxn</td>\n",
       "      <td>1239720.0</td>\n",
       "      <td>1239720.02</td>\n",
       "      <td>0.000002</td>\n",
       "    </tr>\n",
       "    <tr>\n",
       "      <th>2</th>\n",
       "      <td>2024-07-30T21:50:05+00:00</td>\n",
       "      <td>btc_mxn</td>\n",
       "      <td>1239720.0</td>\n",
       "      <td>1239720.02</td>\n",
       "      <td>0.000002</td>\n",
       "    </tr>\n",
       "    <tr>\n",
       "      <th>3</th>\n",
       "      <td>2024-07-30T21:50:05+00:00</td>\n",
       "      <td>btc_mxn</td>\n",
       "      <td>1239720.0</td>\n",
       "      <td>1239720.02</td>\n",
       "      <td>0.000002</td>\n",
       "    </tr>\n",
       "    <tr>\n",
       "      <th>4</th>\n",
       "      <td>2024-07-30T21:50:06+00:00</td>\n",
       "      <td>btc_mxn</td>\n",
       "      <td>1239720.0</td>\n",
       "      <td>1239720.02</td>\n",
       "      <td>0.000002</td>\n",
       "    </tr>\n",
       "  </tbody>\n",
       "</table>\n",
       "</div>"
      ],
      "text/plain": [
       "         orderbook_timestamp     book        bid         ask    spread\n",
       "0  2024-07-30T21:50:02+00:00  btc_mxn  1239720.0  1239720.02  0.000002\n",
       "1  2024-07-30T21:50:03+00:00  btc_mxn  1239720.0  1239720.02  0.000002\n",
       "2  2024-07-30T21:50:05+00:00  btc_mxn  1239720.0  1239720.02  0.000002\n",
       "3  2024-07-30T21:50:05+00:00  btc_mxn  1239720.0  1239720.02  0.000002\n",
       "4  2024-07-30T21:50:06+00:00  btc_mxn  1239720.0  1239720.02  0.000002"
      ]
     },
     "execution_count": 3,
     "metadata": {},
     "output_type": "execute_result"
    }
   ],
   "source": [
    "df = pd.read_parquet(r'..\\data\\book=btc_mxn\\year=2024\\month=07\\day=30\\hour=22\\order_book_data_20240730215003.parquet', engine='pyarrow')\n",
    "df.head()"
   ]
  },
  {
   "cell_type": "code",
   "execution_count": 4,
   "metadata": {},
   "outputs": [
    {
     "name": "stdout",
     "output_type": "stream",
     "text": [
      "<class 'pandas.core.frame.DataFrame'>\n",
      "RangeIndex: 600 entries, 0 to 599\n",
      "Data columns (total 5 columns):\n",
      " #   Column               Non-Null Count  Dtype  \n",
      "---  ------               --------------  -----  \n",
      " 0   orderbook_timestamp  600 non-null    object \n",
      " 1   book                 600 non-null    object \n",
      " 2   bid                  600 non-null    float64\n",
      " 3   ask                  600 non-null    float64\n",
      " 4   spread               600 non-null    float64\n",
      "dtypes: float64(3), object(2)\n",
      "memory usage: 23.6+ KB\n"
     ]
    }
   ],
   "source": [
    "df.info()"
   ]
  },
  {
   "cell_type": "code",
   "execution_count": 5,
   "metadata": {},
   "outputs": [
    {
     "name": "stdout",
     "output_type": "stream",
     "text": [
      "Max spread in the file is equal to 0.02258225806451763\n",
      "Min spread in the file is equal to 1.6128251873801632e-06\n"
     ]
    }
   ],
   "source": [
    "print(f\"Max spread in the file is equal to {str(df['spread'].max())}\")\n",
    "print(f\"Min spread in the file is equal to {str(df['spread'].min())}\")"
   ]
  },
  {
   "cell_type": "code",
   "execution_count": 6,
   "metadata": {},
   "outputs": [
    {
     "name": "stdout",
     "output_type": "stream",
     "text": [
      "The spread from btc_mxn (0.0226) that took place at 2024-07-30T21:54:52+00:00 is greater than 0.1%!\n",
      "The spread from btc_mxn (0.0105) that took place at 2024-07-30T21:54:53+00:00 is greater than 0.1%!\n",
      "The spread from btc_mxn (0.0105) that took place at 2024-07-30T21:54:54+00:00 is greater than 0.1%!\n"
     ]
    }
   ],
   "source": [
    "for index, row in df.iterrows():\n",
    "\n",
    "    orderbook_timestamp\t= row['orderbook_timestamp']\n",
    "    spread = round(row['spread'], 4)\n",
    "    book = row['book']\n",
    "\n",
    "    match spread:\n",
    "        case _ if spread >= 0.1:\n",
    "            print(f\"The spread from {book} ({spread}) that took place at {orderbook_timestamp} is greater than 1%!\")\n",
    "        case _ if spread >= 0.05:\n",
    "            print(f\"The spread from {book} ({spread}) that took place at {orderbook_timestamp} is greater than 0.5%!\")\n",
    "        case _ if spread >=0.01:\n",
    "            print(f\"The spread from {book} ({spread}) that took place at {orderbook_timestamp} is greater than 0.1%!\")"
   ]
  }
 ],
 "metadata": {
  "kernelspec": {
   "display_name": ".venv",
   "language": "python",
   "name": "python3"
  },
  "language_info": {
   "codemirror_mode": {
    "name": "ipython",
    "version": 3
   },
   "file_extension": ".py",
   "mimetype": "text/x-python",
   "name": "python",
   "nbconvert_exporter": "python",
   "pygments_lexer": "ipython3",
   "version": "3.11.2"
  }
 },
 "nbformat": 4,
 "nbformat_minor": 2
}
